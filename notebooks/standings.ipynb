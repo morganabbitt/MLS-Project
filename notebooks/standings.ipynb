{
 "cells": [
  {
   "cell_type": "code",
   "execution_count": 1,
   "metadata": {},
   "outputs": [],
   "source": [
    "import pandas as pd\n",
    "import numpy as np\n",
    "import matplotlib.pyplot as plt\n",
    "import requests\n",
    "from bs4 import BeautifulSoup"
   ]
  },
  {
   "cell_type": "code",
   "execution_count": 2,
   "metadata": {},
   "outputs": [],
   "source": [
    "r = requests.get(url='https://www.mlssoccer.com/mls-is-back-tournament/standings')"
   ]
  },
  {
   "cell_type": "code",
   "execution_count": 3,
   "metadata": {},
   "outputs": [],
   "source": [
    "soup = BeautifulSoup(r.text, features='html.parser')"
   ]
  },
  {
   "cell_type": "code",
   "execution_count": 4,
   "metadata": {},
   "outputs": [],
   "source": [
    "table = soup.find_all('table', attrs={'class':\"standings_table standings_rtp standings-future\"})\n"
   ]
  },
  {
   "cell_type": "code",
   "execution_count": 5,
   "metadata": {},
   "outputs": [],
   "source": [
    "#data-title = 'Club'\n",
    "#data-title = 'Points'\n",
    "#data-title = 'Points Per Game'\n",
    "#data-title = 'Games Played'\n",
    "#data-title = 'Wins'\n",
    "#data-title = 'Losses'\n",
    "#data-title = 'Ties'\n",
    "#data-title = 'Losses'\n",
    "#data-title = 'Goals For'\n",
    "#data-title = 'Goals Against'\n",
    "#data-title = 'Goal Difference'\n",
    "#data-title = 'W-L-T'\n",
    "\n",
    "\n",
    "titles = ['Club', 'Points', 'Points Per Game', 'Games Played', \n",
    "          'Wins', 'Losses', 'Ties', 'Losses', 'Goals For', \n",
    "          'Goals Against', 'Goal Difference']"
   ]
  },
  {
   "cell_type": "code",
   "execution_count": 6,
   "metadata": {},
   "outputs": [],
   "source": [
    "lsts = []\n",
    "for i in range(len(titles)):\n",
    "    lsts.append([])\n",
    "    "
   ]
  },
  {
   "cell_type": "code",
   "execution_count": 8,
   "metadata": {},
   "outputs": [],
   "source": [
    "for i in range(len(table)):\n",
    "    table_body = table[i]\n",
    "    for index, x in enumerate(titles):\n",
    "        for row in table_body.find_all(attrs={'data-title':x}):\n",
    "            lsts[index].append(row.text)  "
   ]
  },
  {
   "cell_type": "code",
   "execution_count": 9,
   "metadata": {},
   "outputs": [
    {
     "data": {
      "text/plain": [
       "['x - ORLOrlando City SC',\n",
       " 'x - PHIPhiladelphia Union',\n",
       " 'x - NYCNew York City FC',\n",
       " 'MIAInter Miami CF',\n",
       " 'x - SJSan Jose Earthquakes',\n",
       " 'x - SEASeattle Sounders FC',\n",
       " 'x - VANVancouver Whitecaps FC',\n",
       " 'CHIChicago Fire FC',\n",
       " 'x - TORToronto FC',\n",
       " 'x - NENew England Revolution',\n",
       " 'x - MTLMontreal Impact',\n",
       " 'DCD.C. United',\n",
       " 'x - SKCSporting Kansas City',\n",
       " 'x - MINMinnesota United FC',\n",
       " 'x - RSLReal Salt Lake',\n",
       " 'COLColorado Rapids',\n",
       " 'x - CLBColumbus Crew SC',\n",
       " 'x - CINFC Cincinnati',\n",
       " 'RBNYNew York Red Bulls',\n",
       " 'ATLAtlanta United FC',\n",
       " 'x - PORPortland Timbers',\n",
       " 'x - LAFCLos Angeles Football Club',\n",
       " 'HOUHouston Dynamo',\n",
       " 'LALA Galaxy']"
      ]
     },
     "execution_count": 9,
     "metadata": {},
     "output_type": "execute_result"
    }
   ],
   "source": [
    "lsts[0]"
   ]
  },
  {
   "cell_type": "code",
   "execution_count": 10,
   "metadata": {},
   "outputs": [],
   "source": [
    "df = pd.DataFrame(data=lsts)"
   ]
  },
  {
   "cell_type": "code",
   "execution_count": 11,
   "metadata": {},
   "outputs": [],
   "source": [
    "df = df.T"
   ]
  },
  {
   "cell_type": "code",
   "execution_count": 12,
   "metadata": {},
   "outputs": [],
   "source": [
    "df.columns = titles"
   ]
  },
  {
   "cell_type": "code",
   "execution_count": 13,
   "metadata": {},
   "outputs": [],
   "source": [
    "lst = []\n",
    "lst2 = []\n",
    "for i in range(df.shape[0]):\n",
    "    if df['Club'][i].startswith('x'):\n",
    "        lst.append(df['Club'][i][4:7])\n",
    "        lst2.append(df['Club'][i][7:])\n",
    "    else:\n",
    "        lst.append(df['Club'][i][:3])\n",
    "        lst2.append(df['Club'][i][3:])"
   ]
  },
  {
   "cell_type": "code",
   "execution_count": 15,
   "metadata": {},
   "outputs": [],
   "source": [
    "df['Club'] = lst\n",
    "df['Club Full Name'] = lst2"
   ]
  },
  {
   "cell_type": "code",
   "execution_count": 17,
   "metadata": {},
   "outputs": [],
   "source": [
    "df.to_csv('../mlsisback_standings.csv')"
   ]
  },
  {
   "cell_type": "code",
   "execution_count": null,
   "metadata": {},
   "outputs": [],
   "source": []
  },
  {
   "cell_type": "code",
   "execution_count": null,
   "metadata": {},
   "outputs": [],
   "source": []
  }
 ],
 "metadata": {
  "kernelspec": {
   "display_name": "Python 3",
   "language": "python",
   "name": "python3"
  },
  "language_info": {
   "codemirror_mode": {
    "name": "ipython",
    "version": 3
   },
   "file_extension": ".py",
   "mimetype": "text/x-python",
   "name": "python",
   "nbconvert_exporter": "python",
   "pygments_lexer": "ipython3",
   "version": "3.7.6"
  }
 },
 "nbformat": 4,
 "nbformat_minor": 4
}
