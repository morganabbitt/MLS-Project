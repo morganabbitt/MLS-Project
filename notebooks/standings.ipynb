{
 "cells": [
  {
   "cell_type": "code",
   "execution_count": 114,
   "metadata": {},
   "outputs": [],
   "source": [
    "import pandas as pd\n",
    "import numpy as np\n",
    "import matplotlib.pyplot as plt\n",
    "import requests\n",
    "from bs4 import BeautifulSoup\n",
    "plt.style.use('ggplot')"
   ]
  },
  {
   "cell_type": "code",
   "execution_count": 115,
   "metadata": {},
   "outputs": [],
   "source": [
    "r = requests.get(url='https://www.mlssoccer.com/mls-is-back-tournament/standings') #using requests library to webscrape mls is back standings"
   ]
  },
  {
   "cell_type": "code",
   "execution_count": 116,
   "metadata": {},
   "outputs": [],
   "source": [
    "soup = BeautifulSoup(r.text, features='html.parser')"
   ]
  },
  {
   "cell_type": "code",
   "execution_count": 117,
   "metadata": {},
   "outputs": [],
   "source": [
    "table = soup.find_all('table', attrs={'class':\"standings_table standings_rtp standings-future\"})\n"
   ]
  },
  {
   "cell_type": "code",
   "execution_count": 118,
   "metadata": {},
   "outputs": [],
   "source": [
    "#data-title = 'Club'\n",
    "#data-title = 'Points'\n",
    "#data-title = 'Points Per Game'\n",
    "#data-title = 'Games Played'\n",
    "#data-title = 'Wins'\n",
    "#data-title = 'Losses'\n",
    "#data-title = 'Ties'\n",
    "#data-title = 'Losses'\n",
    "#data-title = 'Goals For'\n",
    "#data-title = 'Goals Against'\n",
    "#data-title = 'Goal Difference'\n",
    "#data-title = 'W-L-T'\n",
    "\n",
    "\n",
    "titles = ['Club', 'Points', 'Points Per Game', 'Games Played', \n",
    "          'Wins', 'Losses', 'Ties', 'Losses', 'Goals For', \n",
    "          'Goals Against', 'Goal Difference']"
   ]
  },
  {
   "cell_type": "code",
   "execution_count": 119,
   "metadata": {},
   "outputs": [],
   "source": [
    "lsts = []\n",
    "for i in range(len(titles)):\n",
    "    lsts.append([])\n",
    "    \n",
    "\n",
    "for i in range(len(table)):\n",
    "    table_body = table[i]\n",
    "    for index, x in enumerate(titles):\n",
    "        for row in table_body.find_all(attrs={'data-title':x}):\n",
    "            lsts[index].append(row.text)  "
   ]
  },
  {
   "cell_type": "code",
   "execution_count": 120,
   "metadata": {},
   "outputs": [
    {
     "data": {
      "text/plain": [
       "['x - ORLOrlando City SC',\n",
       " 'x - PHIPhiladelphia Union',\n",
       " 'x - NYCNew York City FC',\n",
       " 'MIAInter Miami CF',\n",
       " 'x - SJSan Jose Earthquakes',\n",
       " 'x - SEASeattle Sounders FC',\n",
       " 'x - VANVancouver Whitecaps FC',\n",
       " 'CHIChicago Fire FC',\n",
       " 'x - TORToronto FC',\n",
       " 'x - NENew England Revolution',\n",
       " 'x - MTLMontreal Impact',\n",
       " 'DCD.C. United',\n",
       " 'x - SKCSporting Kansas City',\n",
       " 'x - MINMinnesota United FC',\n",
       " 'x - RSLReal Salt Lake',\n",
       " 'COLColorado Rapids',\n",
       " 'x - CLBColumbus Crew SC',\n",
       " 'x - CINFC Cincinnati',\n",
       " 'RBNYNew York Red Bulls',\n",
       " 'ATLAtlanta United FC',\n",
       " 'x - PORPortland Timbers',\n",
       " 'x - LAFCLos Angeles Football Club',\n",
       " 'HOUHouston Dynamo',\n",
       " 'LALA Galaxy']"
      ]
     },
     "execution_count": 120,
     "metadata": {},
     "output_type": "execute_result"
    }
   ],
   "source": [
    "lsts[0]"
   ]
  },
  {
   "cell_type": "code",
   "execution_count": 121,
   "metadata": {},
   "outputs": [],
   "source": [
    "df = pd.DataFrame(data=lsts)\n",
    "\n",
    "df = df.T\n",
    "\n",
    "df.columns = titles"
   ]
  },
  {
   "cell_type": "code",
   "execution_count": 122,
   "metadata": {},
   "outputs": [],
   "source": [
    "lst = []\n",
    "lst2 = []\n",
    "for i in range(df.shape[0]):\n",
    "    if df['Club'][i].startswith('x'):\n",
    "        lst.append(df['Club'][i][4:7])\n",
    "        lst2.append(df['Club'][i][7:])\n",
    "    else:\n",
    "        lst.append(df['Club'][i][:3])\n",
    "        lst2.append(df['Club'][i][3:])"
   ]
  },
  {
   "cell_type": "code",
   "execution_count": 123,
   "metadata": {},
   "outputs": [],
   "source": [
    "df['Club'] = lst\n",
    "df['Club Full Name'] = lst2"
   ]
  },
  {
   "cell_type": "code",
   "execution_count": 124,
   "metadata": {},
   "outputs": [
    {
     "name": "stdout",
     "output_type": "stream",
     "text": [
      "<class 'pandas.core.frame.DataFrame'>\n",
      "RangeIndex: 24 entries, 0 to 23\n",
      "Data columns (total 12 columns):\n",
      " #   Column           Non-Null Count  Dtype \n",
      "---  ------           --------------  ----- \n",
      " 0   Club             24 non-null     object\n",
      " 1   Points           24 non-null     object\n",
      " 2   Points Per Game  24 non-null     object\n",
      " 3   Games Played     24 non-null     object\n",
      " 4   Wins             24 non-null     object\n",
      " 5   Losses           24 non-null     object\n",
      " 6   Ties             24 non-null     object\n",
      " 7   Losses           24 non-null     object\n",
      " 8   Goals For        24 non-null     object\n",
      " 9   Goals Against    24 non-null     object\n",
      " 10  Goal Difference  24 non-null     object\n",
      " 11  Club Full Name   24 non-null     object\n",
      "dtypes: object(12)\n",
      "memory usage: 2.4+ KB\n"
     ]
    }
   ],
   "source": [
    "df.info()"
   ]
  },
  {
   "cell_type": "code",
   "execution_count": 125,
   "metadata": {},
   "outputs": [],
   "source": [
    "for column in df.columns.values[3:11]:\n",
    "    df[column] = df[column].astype(int)\n",
    "    \n",
    "df['Points'] = df['Points'].astype(int)\n",
    "df['Points Per Game'] = df['Points Per Game'].astype(float)"
   ]
  },
  {
   "cell_type": "code",
   "execution_count": 126,
   "metadata": {},
   "outputs": [
    {
     "name": "stdout",
     "output_type": "stream",
     "text": [
      "<class 'pandas.core.frame.DataFrame'>\n",
      "RangeIndex: 24 entries, 0 to 23\n",
      "Data columns (total 12 columns):\n",
      " #   Column           Non-Null Count  Dtype  \n",
      "---  ------           --------------  -----  \n",
      " 0   Club             24 non-null     object \n",
      " 1   Points           24 non-null     int64  \n",
      " 2   Points Per Game  24 non-null     float64\n",
      " 3   Games Played     24 non-null     int64  \n",
      " 4   Wins             24 non-null     int64  \n",
      " 5   Losses           24 non-null     int64  \n",
      " 6   Ties             24 non-null     int64  \n",
      " 7   Losses           24 non-null     int64  \n",
      " 8   Goals For        24 non-null     int64  \n",
      " 9   Goals Against    24 non-null     int64  \n",
      " 10  Goal Difference  24 non-null     int64  \n",
      " 11  Club Full Name   24 non-null     object \n",
      "dtypes: float64(1), int64(9), object(2)\n",
      "memory usage: 2.4+ KB\n"
     ]
    }
   ],
   "source": [
    "df.info()"
   ]
  },
  {
   "cell_type": "code",
   "execution_count": 133,
   "metadata": {},
   "outputs": [],
   "source": [
    "df.to_csv('../data/mlsisback_standings.csv')"
   ]
  },
  {
   "cell_type": "code",
   "execution_count": 128,
   "metadata": {},
   "outputs": [],
   "source": [
    "goals_for = df.sort_values(by=['Goals For'], ascending=False).head(10)"
   ]
  },
  {
   "cell_type": "code",
   "execution_count": 129,
   "metadata": {},
   "outputs": [],
   "source": [
    "goals_agst = df.sort_values(by=['Goals Against'], ascending=False).head(10)"
   ]
  },
  {
   "cell_type": "code",
   "execution_count": 131,
   "metadata": {},
   "outputs": [],
   "source": [
    "clubs = np.array(['LAFC', 'CLB', 'ORL', 'TOR', 'POR', 'SKC', 'SJ', 'VAN', 'HOU',\n",
    "       'PHI'])"
   ]
  },
  {
   "cell_type": "code",
   "execution_count": 132,
   "metadata": {},
   "outputs": [
    {
     "data": {
      "image/png": "[encoded data removed]",
      "text/plain": [
       "<Figure size 1080x720 with 1 Axes>"
      ]
     },
     "metadata": {},
     "output_type": "display_data"
    }
   ],
   "source": [
    "plt.figure(figsize=(15, 10))\n",
    "plt.bar(np.arange(0.2, len(goals_for)), goals_for['Goals For'].values, width=0.4, label='Goals For', color='steelblue')\n",
    "plt.bar(-0.2 + np.arange(len(goals_for)), goals_for['Goals Against'].values, width=0.4, label='Goals Against', color='indianred')\n",
    "plt.xticks(ticks = np.arange(len(goals_for)), labels=clubs, size=15)\n",
    "plt.ylabel('Number of Goals', size=15)\n",
    "plt.legend(fontsize='x-large')\n",
    "plt.title('Top 10 Highest Goal Scoring Teams', size=25, pad=15)\n",
    "plt.savefig('../selecting_lafc.png', dpi=100)"
   ]
  },
  {
   "cell_type": "markdown",
   "metadata": {},
   "source": [
    "# Intuition around choosing LAFC \n",
    "\n",
    "I chose LAFC as the team to analyze because after observing the standings from MLS is back, I was suprised to find that LAFC has the largest Goals For and the second highest goals against for the tournament. \n",
    "\n",
    "They had 4 goals **more** than the next highest opponent, but still had a large number of goals against. Based on my domain knowledge and intuition I think LAFC could use a position change somewhere on the field to try to balance this statistic. \n",
    "\n",
    "Another interesting note is that with those numbers the team still went 1-0-2. "
   ]
  },
  {
   "cell_type": "markdown",
   "metadata": {},
   "source": [
    "# Game Schedule and Results MLS is Back 2020\n",
    "\n",
    "1. 7/13 Houston Dash vs LA FC - Final Score 3-3\n",
    "\n",
    "2. 7/18 LAFC vs LA Galaxy - Final Score 6-2\n",
    "\n",
    "3. 7/23 LAFC vs Portland - Final Score 2-2\n",
    "\n",
    "4. 7/27 Seattle vs LAFC - Final Score 1-4\n",
    "\n",
    "5. 7/31 LAFC vs ORL - Final Score 1-1, PK's 4-5"
   ]
  },
  {
   "cell_type": "markdown",
   "metadata": {},
   "source": [
    "### 1. HOU vs LAFC"
   ]
  },
  {
   "cell_type": "markdown",
   "metadata": {},
   "source": [
    "Goal #1: Gave up initial goal to Houston in 8th minute, defensive error. LAFC player jumped at a fake shot, Houston continued to dribble and took shot outside of 18 on left side of the field **Shot**\n",
    "\n",
    "Goal #2: Gave up goal off of counter attack in 29th minute, long ball into LAFC's final third and long cross into pk spot and gave up volley goal. Long late runner into box, #27 left back mark. **CROSS - volley**\n",
    "\n",
    "Goal #3: Gave up goal in 49th minute of 1st half. Set piece on left flank, ball into the box unchallenged header goal. **CROSS - header**"
   ]
  },
  {
   "cell_type": "markdown",
   "metadata": {},
   "source": [
    "### 2. LAFC vs LA Galaxy"
   ]
  },
  {
   "cell_type": "markdown",
   "metadata": {},
   "source": [
    "Goal #1: Gave up inital goal in the 4th minute. Poor defensive clearance and defensive error resulting in Galazy player dribbling towards goal, playing ball back towards defenders running towards goal to give up own goal in 6 yard box. **Own Goal**\n",
    "\n",
    "Goal #2: Gave up Pen in 27th minute, ball trickling across edge of 18 yard box and LAFC defender sticks foot out and trips Galaxy player.  **Pen**\n",
    "\n",
    "Note: No problem scoring goals in this game, some excellent combining and eagerness in the final third for LAFC"
   ]
  },
  {
   "cell_type": "markdown",
   "metadata": {},
   "source": [
    "### 3. LAFC vs Portland"
   ]
  },
  {
   "cell_type": "markdown",
   "metadata": {},
   "source": [
    "Goal #1: Gave up inital goal in the 6th minute. **Huge** defensive error, left back was shifted all of the way to the right side, leaving huge hole in middle of the field around half. **Shot**\n",
    "\n",
    "Goal #2: Goal given up in 81st minute of play. Intial corner kick, ball is won by Portland and headed back up by LAFC, won by Portland again and headed back to teammate who finds header back of the net. **Loose ball in box - header**"
   ]
  },
  {
   "cell_type": "markdown",
   "metadata": {},
   "source": [
    "### 4. Seattle vs LAFC"
   ]
  },
  {
   "cell_type": "markdown",
   "metadata": {},
   "source": [
    "Goal #1: Gave up only goal in 75th minute. Long cross from left flank on the dribble, finds farthest right defender on a half volley goal. Nice curved ball into the box that no LAFC defenders could get to. **CROSS - half volley** "
   ]
  },
  {
   "cell_type": "markdown",
   "metadata": {},
   "source": [
    "### 5. LAFC vs ORL"
   ]
  },
  {
   "cell_type": "markdown",
   "metadata": {},
   "source": [
    "Goal #1: Gave up goal in 89th minute off of corner kick. Ball into back post, late runner and defender one step behind attacker. Header goal scored on the inside of the Goal area. **CROSS - header**"
   ]
  },
  {
   "cell_type": "markdown",
   "metadata": {},
   "source": [
    "# Final Position Choice\n",
    "\n",
    "Looking to find a centerback. Based on where the shots are taken for the goals LAFC has given up for the 2020 MLS is Back Tournament, LAFC needs a strong defender, preferably a **centerback** that can organize teammates, win the aerial battle in the defensive third, and mak big stops in the penalty box. \n",
    "\n",
    "Out of the 9 goals given up for LAFC, 8 of them were within the penalty box, and 5 of them within 12 yards from goal. \n",
    "\n",
    "5 out of 9 goals were aerial goals, headers or volleys withing the penalty box. \n",
    "\n"
   ]
  },
  {
   "cell_type": "markdown",
   "metadata": {},
   "source": [
    "# Centerback"
   ]
  },
  {
   "cell_type": "markdown",
   "metadata": {},
   "source": [
    "Based on intuition and from watching LAFC film these are the metrics by which a center back should be chosen to aid LAFC in the CB position:\n",
    "\n",
    "* Experience (several years playing professionally, with large number of playing time)\n",
    "* Commanding defender (need a leader willing to win the aerial battle and organize and communicate with goalkeeper and teammates in the defensive third)\n",
    "* Most likely from a team that gives up little to no goals\n",
    "\n",
    "**Note**: Choosing CB's can be very difficult due to the lack of statistics provided in the CB position. Goals are to filter teams that have success defensively and also filter years of experience to find top 3 picks. \n",
    "\n",
    "**Note**: I have experience with the Centerback position and understand it fully to be able to know the metrics which make a successful Centerback. Obviously a single position change cannot bring LAFC's Goals Against to 0, but it could move to start to change the culture around conceeding goals especially in the penalty area in front of goal"
   ]
  },
  {
   "cell_type": "markdown",
   "metadata": {},
   "source": [
    "## Top 4 teams to look at their CB's"
   ]
  },
  {
   "cell_type": "markdown",
   "metadata": {},
   "source": [
    "* Orlando \n",
    "* Columbus Crew\n",
    "* Philedelphia\n",
    "* San Jose"
   ]
  },
  {
   "cell_type": "markdown",
   "metadata": {},
   "source": [
    "Very impressed with https://www.americansocceranalysis.com/home/2017/3/6/validating-the-asa-xgoals-model and potentially given more time I would have liked to come up with my own metric for defenders, and based on defender field positioning, proximity to attacker, and other instances I would come up with a way to evaluate a defenders performance. "
   ]
  }
 ],
 "metadata": {
  "kernelspec": {
   "display_name": "Python 3",
   "language": "python",
   "name": "python3"
  },
  "language_info": {
   "codemirror_mode": {
    "name": "ipython",
    "version": 3
   },
   "file_extension": ".py",
   "mimetype": "text/x-python",
   "name": "python",
   "nbconvert_exporter": "python",
   "pygments_lexer": "ipython3",
   "version": "3.7.6"
  }
 },
 "nbformat": 4,
 "nbformat_minor": 4
}
